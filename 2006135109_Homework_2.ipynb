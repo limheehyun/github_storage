{
 "cells": [
  {
   "cell_type": "markdown",
   "metadata": {},
   "source": [
    "스크립트 프로그래밍 과제_2\n",
    "=====================\n",
    "2006135109 임희현\n",
    "------------------------\n",
    "--------\n",
    "---------"
   ]
  },
  {
   "cell_type": "code",
   "execution_count": 3,
   "metadata": {},
   "outputs": [
    {
     "name": "stdout",
     "output_type": "stream",
     "text": [
      "4\n",
      "1\n",
      "2\n",
      "2\n",
      "1\n",
      "3\n"
     ]
    }
   ],
   "source": [
    "#일반연습문제.1\n",
    "print(1 and 2 and 3 and 4)\n",
    "print(1 or 2 or 3 or 4)\n",
    "print(1 and 2 or 3 and 4)\n",
    "print((1 and 2) or (3 and 4))\n",
    "print(1 or 2 and 3 or 4)\n",
    "print((1 or 2) and (3 or 4))"
   ]
  },
  {
   "cell_type": "markdown",
   "metadata": {},
   "source": [
    "#### 일반연습문제.1 풀이\n",
    "true = 1 이상의 정수\n",
    "false = 0\n",
    "1. true1 and true2 → true2 반환(둘다 참이면 뒤의 값을 반환)\n",
    "2. true1 or true2 → true1 반환(앞이 참이면 뒤의 값은 확인 안하고 앞의 값을 반환)\n",
    "\n",
    "위와 같은 과정으로 되기 때문에\n",
    "- 1 and 2 and 3 and 4 → 모두 참이므로 제일 뒤의값인 4를 반환\n",
    "- 1 or 2 or 3 or 4 → 1이 참이므로 나머지 확인 안하고 1을 반환\n",
    "- 1 and 2 or 3 and 4 → 1 and 2 에서 2를 반환하고 2 or 3 에서 2가 참이므로 2를 반환\n",
    "- (1 and 2) or (3 and 4) → 세번째와 마찬가지로 or 앞의 값인 2가 참이므로 2를 반환\n",
    "- 1 or 2 and 3 or 4 → 1이 참이므로 1을 반환\n",
    "- (1 or 2) and (3 or 4) → (1 or 2) = 1, (3 or 4) = 3 이므로 1 and 3 = 3을 반환"
   ]
  },
  {
   "cell_type": "code",
   "execution_count": 30,
   "metadata": {},
   "outputs": [
    {
     "name": "stdout",
     "output_type": "stream",
     "text": [
      "['/usr/local/bin', 'python']\n",
      "['/home/chulsoo', 'test.txt']\n"
     ]
    }
   ],
   "source": [
    "#일반연습문제.2\n",
    "def div_path(s):\n",
    "    i = s[::-1].find('/') #마지막 '/' 위치 확인\n",
    "    l =[]\n",
    "    l.append(s[:-(i+1)]) #디렉토리\n",
    "    l.append(s[-i:]) #파일명\n",
    "    return print(l)\n",
    "\n",
    "div_path('/usr/local/bin/python')\n",
    "div_path('/home/chulsoo/test.txt')"
   ]
  },
  {
   "cell_type": "markdown",
   "metadata": {},
   "source": [
    "#### 일반연습문제.2 풀이\n",
    "1. 디렉토리와 파일명은 마지막 '/'로 구분되기 때문에 입력받은 문자열을 뒤에서부터 검색하여 find를 사용하여 마지막'/'의 위치를 확인한다.\n",
    "2. 확인된 위치를 기준으로 앞쪽은 디렉토리, 뒤쪽은 파일명으로 분리하여 빈 리스트에 append를 사용하여 순서대로 입력한다."
   ]
  },
  {
   "cell_type": "code",
   "execution_count": 38,
   "metadata": {},
   "outputs": [
    {
     "name": "stdout",
     "output_type": "stream",
     "text": [
      "[1, 2, 3, 4]\n",
      "[-10, -5, -1, 0, 9, 100]\n",
      "[0, 1, 2]\n"
     ]
    }
   ],
   "source": [
    "#일반연습문제.3\n",
    "def list_union(lista, listb):\n",
    "    l=[]\n",
    "    for i in lista: #첫번째 리스트\n",
    "        if(i in l):\n",
    "            continue #원소가 중복이면 아무것도 안한다.\n",
    "        l.append(i) #원소가 중복되지 않으면 리스트에 추가한다.\n",
    "        \n",
    "    for i in listb: #두번째 리스트\n",
    "        if(i in l):\n",
    "            continue #원소가 중복이면 아무것도 안한다.\n",
    "        l.append(i) #원소가 중복되지 않으면 리스트에 추가한다.\n",
    "        \n",
    "    l.sort() #정렬\n",
    "    return print(l)\n",
    "\n",
    "list_union([1,2,3],[1,2,4])\n",
    "list_union([-10,-5,0,-1],[100,9,0,9])\n",
    "list_union([0,1,2],[0,1,2])    "
   ]
  },
  {
   "cell_type": "markdown",
   "metadata": {},
   "source": [
    "#### 일반연습문제.3 풀이\n",
    "1. for문을 사용하여 lista의 각 값을 빈 리스트 l에 넣는다.\n",
    "2. 만약 값 중에 중복되는 값이 있으면(if(i in l)) 리스트에 값을 넣지않고 다음값을 비교한다.\n",
    "3. lista의 값 비교가 끝나면 두번째 반복문으로 listb의 값을 리스트 l에 넣는다.(중복값은 제외)\n",
    "4. lista와 listb의 값이 모두 들어간 뒤 l.sort() 로 정렬해준다."
   ]
  },
  {
   "cell_type": "code",
   "execution_count": 58,
   "metadata": {},
   "outputs": [
    {
     "name": "stdout",
     "output_type": "stream",
     "text": [
      "abcdefghijklmnopqrstuvwxyz\n",
      "0 1 2 3 4 5 6 7 8 9 10 11 12 13 14 15 16 17 18 19 20 21 22 23 24 25 "
     ]
    }
   ],
   "source": [
    "#ACM-ICPC 문제 10809번\n",
    "S = input() #글자 입력\n",
    "if(len(S) > 100):\n",
    "    print(\"100자가 넘었습니다.\")\n",
    "elif(S.islower() == False):\n",
    "    print(\"소문자만 입력해주세요\")\n",
    "else:\n",
    "    for i in range(97,123): #a=97, z=122\n",
    "        if(chr(i) in S): #chr(num) → num에 대응하는 문자 반환\n",
    "            print(S.find(chr(i)),end=\" \") #알파벳 위치 반환\n",
    "        else:\n",
    "            print(-1,end=\" \")"
   ]
  },
  {
   "cell_type": "markdown",
   "metadata": {},
   "source": [
    "#### ACM-ICPC 문제 10809번 풀이\n",
    "\n",
    "1. 정답확인 캡쳐파일\n",
    "<img src=\"\n",
    "https://user-images.githubusercontent.com/43672273/47189649-97232800-d378-11e8-87aa-5b11cf3cc3d7.png\n",
    "\">\n",
    "\n",
    "2. 설명\n",
    "    - 문자를 입력받아 S에 저장한다.\n",
    "    - S가 100자를 넘거나 모두 소문자가 아니면 에러메시지 출력한다.\n",
    "    - ord('a')=97, ord('z')=122 이므로(아스키코드), for문을 97~122까지 반복시킨다.\n",
    "    - chr(num)으로 num에 대응하는 문자를 반환하여 입력받은 문자열과 비교한다.\n",
    "    - 문자열에 해당 알파벳이 있으면 알파벳 위치를 출력한다.\n",
    "    - 문자열에 해당 알파벳이 없으면 -1 출력한다."
   ]
  },
  {
   "cell_type": "code",
   "execution_count": 6,
   "metadata": {},
   "outputs": [
    {
     "name": "stdout",
     "output_type": "stream",
     "text": [
      "2\n",
      "3 ABC\n",
      "AAABBBCCC\n",
      "5 /HBC\n",
      "/////HHHHHBBBBBCCCCC\n"
     ]
    }
   ],
   "source": [
    "#ACM-ICPC 문제 2675번\n",
    "T = int(input())\n",
    "\n",
    "for i in range(T):\n",
    "    R, S = input().split() #공백기준으로 입력값 나뉨\n",
    "    R = int(R)\n",
    "    P = \"\"\n",
    "    for j in S:\n",
    "        P=P+(j*R)\n",
    "    print(P)"
   ]
  },
  {
   "cell_type": "markdown",
   "metadata": {},
   "source": [
    "#### ACM-ICPC 문제 2675번 풀이\n",
    "1. 정답확인 캡쳐파일\n",
    "<img src=\"https://user-images.githubusercontent.com/43672273/47189524-f6cd0380-d377-11e8-9bc7-b4fa6772df58.png\">\n",
    "\n",
    "2. 설명\n",
    "    - T로 테스트횟수 입력받는다.\n",
    "    - T 횟수만큼 첫번째 반복문 실행한다.\n",
    "    - 반복문 안에서 문자반복횟수(R)와 문자열(S) 입력받는다.\n",
    "    - 공백문자열 P를 생성한다.\n",
    "    - 문자열길이만큼 두번째 반복문을 실행해준다.\n",
    "    - P = P + (S[index] * R) 로 각 문자가 반복된 만큼씩 계속 더해준다.\n",
    "    - 전부 더했으면 두번째 반복문이 종료되고 문자열 P를 출력해준다.\n",
    "    - 첫번째 반복문이 종료될 때까지 두번째 순서부터 계속 반복된다."
   ]
  },
  {
   "cell_type": "code",
   "execution_count": 11,
   "metadata": {},
   "outputs": [
    {
     "name": "stdout",
     "output_type": "stream",
     "text": [
      "501\n"
     ]
    }
   ],
   "source": [
    "#Incremental Project 문제\n",
    "import requests\n",
    "\n",
    "req = requests.get('http://cse.koreatech.ac.kr')\n",
    "\n",
    "source = req.text\n",
    "\n",
    "def delete_tag(a): #태그 제거하는 함수\n",
    "    tag = 0 #tag가 1인동안은 문자들을 태그로 인식, 0인동안은 순수텍스트로 인식\n",
    "    lan = \"\" #태그 제외한 문자열만 삽입할 새 문자열\n",
    "    for i in a:\n",
    "        if(i == '<'): #문자가 '<' 이면 tag =1 & lan에 빈칸 삽입 \n",
    "            tag = 1\n",
    "            lan = lan + \" \"\n",
    "        elif(i == '>'): #문자가 '>' 이면 tag = 0 & lan에 빈칸 삽입\n",
    "            tag = 0\n",
    "            lan = lan + \" \"\n",
    "        elif(tag == 0): #순수 텍스트면 lan에 문자열 추가 \n",
    "            lan = lan + i\n",
    "        else: #그외(태그일때)는 continue\n",
    "            continue\n",
    "    \n",
    "    return lan.split() #리스트형태로 반환\n",
    "\n",
    "t = delete_tag(source) #t에 태그제거 함수 호출 \n",
    "print(len(t)) #t의 길이 = 순수텍스트의 숫자\n",
    "#print(source)"
   ]
  },
  {
   "cell_type": "markdown",
   "metadata": {},
   "source": [
    "#### Incremental Project 문제 풀이\n",
    "1. delete_tag(a)라는 함수를 만들어 HTML소스를 받아서 태그를 제외한 순수텍스트만 리스트형태로 반환하도록 만든다.\n",
    "2. lan 이라는 빈 문자열과 tag 라는 변수를 생성한다.\n",
    "3. 소스의 맨 앞글자부터 확인하여 \n",
    "    - '<' 이면 tag=1로 변경하고 lan에는 빈칸을 하나 삽입한다.\n",
    "    - '>' 이면 tag=0으로 변경하고 lan에는 빈칸을 하나 삽입한다.\n",
    "    - tag=0 순수텍스트이기 때문에 lan에 문자를 추가해준다.\n",
    "    - 그외(tag=1)는 전부 태그이기 때문에 아무것도 하지 않는다.\n",
    "4. 소스의 맨 끝 글자까지 확인이 끝나면 split()을 이용하여 리스트형태로 반환해준다.\n",
    "5. t라는 변수에 delete_tag(source)를 입력하여 리스트를 받는다.\n",
    "6. 리스트t의 길이 = 순수텍스트의 숫자이기 때문에 len(t)로 값을 확인한다."
   ]
  },
  {
   "cell_type": "markdown",
   "metadata": {},
   "source": [
    "#### 느낀점\n",
    "ICPC 문제 2675번이 if문으로 범위조건을 걸면 오답으로 처리되어서 빼고 작성했습니다."
   ]
  },
  {
   "cell_type": "code",
   "execution_count": null,
   "metadata": {},
   "outputs": [],
   "source": []
  }
 ],
 "metadata": {
  "kernelspec": {
   "display_name": "Python 3",
   "language": "python",
   "name": "python3"
  },
  "language_info": {
   "codemirror_mode": {
    "name": "ipython",
    "version": 3
   },
   "file_extension": ".py",
   "mimetype": "text/x-python",
   "name": "python",
   "nbconvert_exporter": "python",
   "pygments_lexer": "ipython3",
   "version": "3.6.6"
  }
 },
 "nbformat": 4,
 "nbformat_minor": 2
}
